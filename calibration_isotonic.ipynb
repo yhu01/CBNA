{
 "cells": [
  {
   "cell_type": "code",
   "execution_count": 1,
   "id": "f1e54ede-f04a-4726-b23c-cb2efcf450a0",
   "metadata": {
    "tags": []
   },
   "outputs": [],
   "source": [
    "from __future__ import print_function\n",
    "\n",
    "import argparse\n",
    "import csv\n",
    "import os\n",
    "import sys\n",
    "import tifffile\n",
    "import pandas as pd\n",
    "import numpy as np\n",
    "import seaborn as sns\n",
    "import matplotlib.pyplot as plt\n",
    "import torch\n",
    "import glob\n",
    "import pickle\n",
    "\n",
    "import datetime\n",
    "import math\n",
    "import json\n",
    "import time\n",
    "\n",
    "import timm\n",
    "from timm.models import create_model\n",
    "from timm.scheduler import CosineLRScheduler\n",
    "from timm.optim import create_optimizer\n",
    "from timm.utils import NativeScaler, get_state_dict\n",
    "from sklearn.metrics import roc_auc_score\n",
    "\n",
    "from torch.utils.data import Dataset, random_split, DataLoader\n",
    "from PIL import Image\n",
    "import torchvision.models as models\n",
    "import torchvision.transforms as T\n",
    "import torch.backends.cudnn as cudnn\n",
    "import torch.nn.functional as F\n",
    "import torch.nn as nn\n",
    "from torchvision.utils import make_grid\n",
    "\n",
    "import torch.multiprocessing as mp\n",
    "import torch.distributed as dist\n",
    "from torch.nn.parallel import DistributedDataParallel as DDP\n",
    "from torch.utils.data.distributed import DistributedSampler\n",
    "\n",
    "from customloss import CustomLoss\n",
    "from datamgr import *\n",
    "import utils\n",
    "from engine import *\n",
    "from dataset import *\n",
    "from samplers import RASampler\n",
    "\n",
    "import copy\n",
    "from pathlib import Path\n",
    "from tqdm import tqdm\n",
    "\n",
    "def save_pickle(file, data):\n",
    "    with open(file, 'wb') as f:\n",
    "        pickle.dump(data, f)\n",
    "\n",
    "        \n",
    "def load_pickle(file):\n",
    "    with open(file, 'rb') as f:\n",
    "        return pickle.load(f)"
   ]
  },
  {
   "cell_type": "code",
   "execution_count": 2,
   "id": "2be689ed-33b7-421e-b170-34a07c7e4ef9",
   "metadata": {
    "tags": []
   },
   "outputs": [],
   "source": [
    "CNN_output_dir = Path('./checkpoints/CBNA/CNN/')\n",
    "MLP_output_dir = Path('./checkpoints/CBNA/MLP/')\n",
    "\n",
    "train_targets = torch.load(CNN_output_dir.joinpath('CNN_train_predictions.pth'))['targets']\n",
    "CNN_train_preds = torch.load(CNN_output_dir.joinpath('CNN_train_predictions.pth'))['predictions']\n",
    "MLP_train_preds = torch.load(MLP_output_dir.joinpath('MLP_train_predictions.pth'))['predictions']\n",
    "\n",
    "test_targets = torch.load(CNN_output_dir.joinpath('CNN_test_predictions.pth'))['targets']\n",
    "CNN_test_preds = torch.load(CNN_output_dir.joinpath('CNN_test_predictions.pth'))['predictions']\n",
    "MLP_test_preds = torch.load(MLP_output_dir.joinpath('MLP_test_predictions.pth'))['predictions']"
   ]
  },
  {
   "cell_type": "code",
   "execution_count": 3,
   "id": "137c77ae-7dff-4898-bdb6-882875ae95a9",
   "metadata": {
    "tags": []
   },
   "outputs": [],
   "source": [
    "from sklearn.isotonic import IsotonicRegression"
   ]
  },
  {
   "cell_type": "code",
   "execution_count": 5,
   "id": "f9bc01a0-adf6-4dc5-955b-18a2121f08b0",
   "metadata": {
    "tags": []
   },
   "outputs": [],
   "source": [
    "CNN_iso = IsotonicRegression(out_of_bounds = 'clip')\n",
    "CNN_calib_test_preds = []\n",
    "\n",
    "for idx in range(train_targets.shape[1]):\n",
    "    CNN_iso.fit(CNN_train_preds[:,idx], train_targets[:,idx])\n",
    "    CNN_calib_test_probs = CNN_iso.predict(CNN_test_preds[:,idx])\n",
    "    CNN_calib_test_preds.append(torch.tensor(CNN_calib_test_probs).unsqueeze(0))\n",
    "\n",
    "CNN_calib_test_preds = torch.cat(CNN_calib_test_preds).t()"
   ]
  },
  {
   "cell_type": "code",
   "execution_count": 13,
   "id": "7a7fb7ed-7c12-4915-abed-d44babe5b1f6",
   "metadata": {
    "tags": []
   },
   "outputs": [],
   "source": [
    "def compute_scores(outputs, targets, threshold=0.45):\n",
    "    \n",
    "    prob = outputs >= threshold\n",
    "    label = targets >= threshold\n",
    "    TP = (prob & label).sum(0).float()\n",
    "    TN = ((~prob) & (~label)).sum(0).float()\n",
    "    FP = (prob & (~label)).sum(0).float()\n",
    "    FN = ((~prob) & label).sum(0).float()\n",
    "    \n",
    "    # macro true skill score\n",
    "    macro_recall = TP / (TP + FN + 1e-8)\n",
    "    macro_specificity = TN / (TN + FP + 1e-8)\n",
    "    macro_tss = torch.mean(macro_recall + macro_specificity - 1)\n",
    "    macro_precision = TP / (TP + FP + 1e-8)\n",
    "    macro_accuracy = (TP + TN) / (TP + FP + TN + FN + 1e-8)\n",
    "    print('macro recall: ', torch.mean(macro_recall).item())\n",
    "    print('macro specificity: ', torch.mean(macro_specificity).item())\n",
    "    print('macro tss: ', torch.mean(macro_tss).item())\n",
    "    print('macro precision: ', torch.mean(macro_precision).item())\n",
    "    print('macro_accuracy: ', torch.mean(macro_accuracy).item())\n",
    "    # micro true skill score\n",
    "    micro_recall = TP.sum() / (TP.sum() + FN.sum())\n",
    "    micro_specificity = TN.sum() / (TN.sum() + FP.sum())\n",
    "    micro_tss = micro_recall + micro_specificity - 1\n",
    "    micro_precision = TP.sum() / (TP.sum() + FP.sum() + 1e-8)\n",
    "    micro_accuracy = (TP.sum() + TN.sum()) / (TP.sum() + FP.sum() + TN.sum() + FN.sum() + 1e-8)\n",
    "    print('micro recall: ', micro_recall.item())\n",
    "    print('micro specificity: ', torch.mean(micro_specificity).item())\n",
    "    print('micro tss: ', torch.mean(micro_tss).item())\n",
    "    print('micro_precision: ', micro_precision.item())\n",
    "    print('micro_accuracy: ', micro_accuracy.item())\n",
    "    "
   ]
  },
  {
   "cell_type": "code",
   "execution_count": 14,
   "id": "a035142e-d2df-44a9-aa24-3d80c96fcc53",
   "metadata": {
    "tags": []
   },
   "outputs": [
    {
     "name": "stdout",
     "output_type": "stream",
     "text": [
      "macro recall:  0.6793069839477539\n",
      "macro specificity:  0.8866408467292786\n",
      "macro tss:  0.5659478306770325\n",
      "macro precision:  0.040565989911556244\n",
      "macro_accuracy:  0.8882507681846619\n",
      "micro recall:  0.8912724256515503\n",
      "micro specificity:  0.888227105140686\n",
      "micro tss:  0.7794995307922363\n",
      "micro_precision:  0.058801889419555664\n",
      "micro_accuracy:  0.8882507681846619\n"
     ]
    }
   ],
   "source": [
    "compute_scores(CNN_calib_test_preds, test_targets, threshold=0.01)"
   ]
  },
  {
   "cell_type": "code",
   "execution_count": 11,
   "id": "aa52ddaa-a4fe-41b4-bab3-700251571d1c",
   "metadata": {
    "tags": []
   },
   "outputs": [
    {
     "data": {
      "text/plain": [
       "<matplotlib.collections.PathCollection at 0x7fa95625a650>"
      ]
     },
     "execution_count": 11,
     "metadata": {},
     "output_type": "execute_result"
    },
    {
     "data": {
      "image/png": "[encoded data removed]",
      "text/plain": [
       "<Figure size 640x480 with 1 Axes>"
      ]
     },
     "metadata": {},
     "output_type": "display_data"
    }
   ],
   "source": [
    "plt.scatter(test_targets.sum(1), CNN_calib_test_preds.sum(1))"
   ]
  },
  {
   "cell_type": "code",
   "execution_count": 15,
   "id": "fa121a32-3e3a-486a-a4d0-9e96898f18c9",
   "metadata": {
    "tags": []
   },
   "outputs": [],
   "source": [
    "MLP_iso = IsotonicRegression(out_of_bounds = 'clip')\n",
    "MLP_calib_test_preds = []\n",
    "\n",
    "for idx in range(train_targets.shape[1]):\n",
    "    MLP_iso.fit(MLP_train_preds[:,idx], train_targets[:,idx])\n",
    "    MLP_calib_test_probs = MLP_iso.predict(MLP_test_preds[:,idx])\n",
    "    MLP_calib_test_preds.append(torch.tensor(MLP_calib_test_probs).unsqueeze(0))\n",
    "\n",
    "MLP_calib_test_preds = torch.cat(MLP_calib_test_preds).t()"
   ]
  },
  {
   "cell_type": "code",
   "execution_count": 16,
   "id": "2dc98bdd-2966-4afe-ab2a-6c07348110ca",
   "metadata": {},
   "outputs": [
    {
     "name": "stdout",
     "output_type": "stream",
     "text": [
      "macro recall:  0.6846301555633545\n",
      "macro specificity:  0.8679312467575073\n",
      "macro tss:  0.5525612831115723\n",
      "macro precision:  0.037342529743909836\n",
      "macro_accuracy:  0.8700000643730164\n",
      "micro recall:  0.9011030793190002\n",
      "micro specificity:  0.8697562217712402\n",
      "micro tss:  0.7708592414855957\n",
      "micro_precision:  0.05141952261328697\n",
      "micro_accuracy:  0.8699999451637268\n"
     ]
    }
   ],
   "source": [
    "compute_scores(MLP_calib_test_preds, test_targets, threshold=0.01)"
   ]
  },
  {
   "cell_type": "code",
   "execution_count": 17,
   "id": "9eee5302-8241-4f8f-a2ae-d64ee2fe79df",
   "metadata": {
    "tags": []
   },
   "outputs": [
    {
     "data": {
      "text/plain": [
       "<matplotlib.collections.PathCollection at 0x7fa9564e4df0>"
      ]
     },
     "execution_count": 17,
     "metadata": {},
     "output_type": "execute_result"
    },
    {
     "data": {
      "image/png": "[encoded data removed]",
      "text/plain": [
       "<Figure size 640x480 with 1 Axes>"
      ]
     },
     "metadata": {},
     "output_type": "display_data"
    }
   ],
   "source": [
    "plt.scatter(test_targets.sum(1), MLP_calib_test_preds.sum(1))"
   ]
  },
  {
   "cell_type": "code",
   "execution_count": null,
   "id": "2d03e031-7d21-4763-b71d-413f154b752a",
   "metadata": {},
   "outputs": [],
   "source": []
  }
 ],
 "metadata": {
  "kernelspec": {
   "display_name": "Python 3 (ipykernel)",
   "language": "python",
   "name": "python3"
  },
  "language_info": {
   "codemirror_mode": {
    "name": "ipython",
    "version": 3
   },
   "file_extension": ".py",
   "mimetype": "text/x-python",
   "name": "python",
   "nbconvert_exporter": "python",
   "pygments_lexer": "ipython3",
   "version": "3.10.12"
  }
 },
 "nbformat": 4,
 "nbformat_minor": 5
}
