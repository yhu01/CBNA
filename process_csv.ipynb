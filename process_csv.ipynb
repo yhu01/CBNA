{
 "cells": [
  {
   "cell_type": "code",
   "execution_count": 1,
   "id": "33324c07-0be2-4dab-b13f-b93a8d80838e",
   "metadata": {
    "tags": []
   },
   "outputs": [],
   "source": [
    "import os\n",
    "import rasterio as rio\n",
    "import tifffile\n",
    "import pandas as pd\n",
    "import numpy as np\n",
    "import seaborn as sns\n",
    "import matplotlib.pyplot as plt\n",
    "import torch\n",
    "import torchvision.transforms as transforms\n",
    "from torch.utils.data import Dataset, random_split, DataLoader\n",
    "from PIL import Image\n",
    "import torchvision.models as models\n",
    "import torchvision.transforms as T\n",
    "from sklearn.metrics import f1_score\n",
    "import torch.nn.functional as F\n",
    "import torch.nn as nn\n",
    "from pathlib import Path\n",
    "from torchvision.utils import make_grid\n",
    "import time\n",
    "import copy\n",
    "import re\n",
    "import glob\n",
    "import csv\n",
    "from tqdm import tqdm\n",
    "%matplotlib widget"
   ]
  },
  {
   "cell_type": "markdown",
   "id": "1a397503-3acc-490c-ae66-d66d9bd1320b",
   "metadata": {},
   "source": [
    "## Get available data, more coming..."
   ]
  },
  {
   "cell_type": "code",
   "execution_count": 2,
   "id": "fc171026-63d2-4a5e-bda1-aba1cef640dd",
   "metadata": {
    "tags": []
   },
   "outputs": [
    {
     "data": {
      "text/plain": [
       "(3477371, 10)"
      ]
     },
     "execution_count": 2,
     "metadata": {},
     "output_type": "execute_result"
    }
   ],
   "source": [
    "df = pd.read_csv('filelist/cbna_filtered.csv',sep=',',low_memory=False)\n",
    "df.shape"
   ]
  },
  {
   "cell_type": "code",
   "execution_count": null,
   "id": "e50164fd-1671-49c5-b882-2ae4c2789fc4",
   "metadata": {},
   "outputs": [],
   "source": [
    "files = glob.glob('Data/irc_patches/*.tif')"
   ]
  },
  {
   "cell_type": "code",
   "execution_count": 4,
   "id": "a8aaa015-6183-4702-a270-936a0f93ec77",
   "metadata": {
    "tags": []
   },
   "outputs": [
    {
     "data": {
      "text/plain": [
       "162133"
      ]
     },
     "execution_count": 4,
     "metadata": {},
     "output_type": "execute_result"
    }
   ],
   "source": [
    "len(files)"
   ]
  },
  {
   "cell_type": "code",
   "execution_count": 3,
   "id": "4c131bf9-eb7a-4801-a426-62f697eaacf1",
   "metadata": {
    "scrolled": true,
    "tags": []
   },
   "outputs": [
    {
     "name": "stderr",
     "output_type": "stream",
     "text": [
      "100%|█████████████████████████████████████████| 633/633 [52:48<00:00,  5.01s/it]\n"
     ]
    }
   ],
   "source": [
    "batch_size = 256\n",
    "start_batch_idx = 0\n",
    "end_batch_idx = len(files) // batch_size\n",
    "\n",
    "ToTensor = transforms.ToTensor()\n",
    "invalid_imgs = []\n",
    "\n",
    "for batch_idx in tqdm(range(start_batch_idx, end_batch_idx)):\n",
    "    \n",
    "    batch_imgs = []\n",
    "    idx_of_batch = batch_idx * batch_size\n",
    "    for idx in range(idx_of_batch, idx_of_batch+batch_size):\n",
    "        img_path = files[idx]\n",
    "        image = tifffile.imread(img_path)\n",
    "        image = Image.fromarray(image.astype(np.uint8).transpose(1,2,0))\n",
    "        image = ToTensor(image).unsqueeze(0)\n",
    "        batch_imgs.append(image)\n",
    "    batch_imgs = torch.cat(batch_imgs).cuda()\n",
    "    \n",
    "    temp = (batch_imgs == 1.0).sum([1,2,3]) >= 256 * 256 * 3\n",
    "    invalid_list = idx_of_batch + torch.where(temp == True)[0]\n",
    "    invalid_imgs += invalid_list.detach().cpu().tolist()\n",
    "    #print(invalid_imgs)\n",
    "    "
   ]
  },
  {
   "cell_type": "code",
   "execution_count": 11,
   "id": "b3704147-d903-4ac9-b7ca-6302f3b21d7a",
   "metadata": {},
   "outputs": [
    {
     "name": "stderr",
     "output_type": "stream",
     "text": [
      "100%|███████████████████████████████████████████| 85/85 [00:01<00:00, 49.80it/s]\n"
     ]
    }
   ],
   "source": [
    "batch_imgs = []\n",
    "idx_of_batch = (batch_idx + 1) * batch_size\n",
    "\n",
    "for j in tqdm(range(idx+1, len(files))):\n",
    "    img_path = files[j]\n",
    "    image = tifffile.imread(img_path)\n",
    "    image = Image.fromarray(image.astype(np.uint8).transpose(1,2,0))\n",
    "    image = ToTensor(image).unsqueeze(0)\n",
    "    batch_imgs.append(image)\n",
    "    \n",
    "batch_imgs = torch.cat(batch_imgs).cuda()\n",
    "temp = (batch_imgs == 1.0).sum([1,2,3]) >= 256 * 256 * 3\n",
    "invalid_list = idx_of_batch + torch.where(temp == True)[0]\n",
    "invalid_imgs += invalid_list.detach().cpu().tolist()"
   ]
  },
  {
   "cell_type": "code",
   "execution_count": 4,
   "id": "9f7fe5ad-b0da-4ec0-911a-a08ad2aca5df",
   "metadata": {
    "tags": []
   },
   "outputs": [
    {
     "ename": "NameError",
     "evalue": "name 'files' is not defined",
     "output_type": "error",
     "traceback": [
      "\u001b[0;31m---------------------------------------------------------------------------\u001b[0m",
      "\u001b[0;31mNameError\u001b[0m                                 Traceback (most recent call last)",
      "Cell \u001b[0;32mIn[4], line 4\u001b[0m\n\u001b[1;32m      2\u001b[0m invalid_id_imgs \u001b[38;5;241m=\u001b[39m []\n\u001b[1;32m      3\u001b[0m \u001b[38;5;28;01mfor\u001b[39;00m i \u001b[38;5;129;01min\u001b[39;00m invalid_imgs:\n\u001b[0;32m----> 4\u001b[0m     filename \u001b[38;5;241m=\u001b[39m \u001b[43mfiles\u001b[49m[i]\n\u001b[1;32m      5\u001b[0m     s \u001b[38;5;241m=\u001b[39m \u001b[38;5;28mint\u001b[39m(re\u001b[38;5;241m.\u001b[39mfindall(\u001b[38;5;124mr\u001b[39m\u001b[38;5;124m'\u001b[39m\u001b[38;5;124m\\\u001b[39m\u001b[38;5;124md+\u001b[39m\u001b[38;5;124m'\u001b[39m, filename)[\u001b[38;5;241m0\u001b[39m])\n\u001b[1;32m      6\u001b[0m     invalid_id_imgs\u001b[38;5;241m.\u001b[39mappend(s)\n",
      "\u001b[0;31mNameError\u001b[0m: name 'files' is not defined"
     ]
    }
   ],
   "source": [
    "import re\n",
    "invalid_id_imgs = []\n",
    "for i in invalid_imgs:\n",
    "    filename = files[i]\n",
    "    s = int(re.findall(r'\\d+', filename)[0])\n",
    "    invalid_id_imgs.append(s)"
   ]
  },
  {
   "cell_type": "code",
   "execution_count": 3,
   "id": "a0a60522-e6b8-412f-8a23-d39874deaec9",
   "metadata": {
    "tags": []
   },
   "outputs": [],
   "source": [
    "#torch.save(invalid_id_imgs, 'filelist/invalid_img_list.pth')\n",
    "invalid_id_imgs = torch.load('filelist/invalid_img_list.pth')"
   ]
  },
  {
   "cell_type": "code",
   "execution_count": 5,
   "id": "2003f208-85e3-406e-936d-a77003c2e46c",
   "metadata": {
    "tags": []
   },
   "outputs": [],
   "source": [
    "res_df = df.loc[~df.id_img.isin(invalid_id_imgs)]"
   ]
  },
  {
   "cell_type": "code",
   "execution_count": 6,
   "id": "41bf2cc4-edca-460a-9a75-080a985ce68a",
   "metadata": {
    "tags": []
   },
   "outputs": [
    {
     "data": {
      "text/plain": [
       "(3437469, 10)"
      ]
     },
     "execution_count": 6,
     "metadata": {},
     "output_type": "execute_result"
    }
   ],
   "source": [
    "res_df.shape"
   ]
  },
  {
   "cell_type": "code",
   "execution_count": 7,
   "id": "79a6266b-a791-4749-a880-37075dd6bacd",
   "metadata": {
    "tags": []
   },
   "outputs": [],
   "source": [
    "valid_species = list(np.genfromtxt('filelist/vascular_plants.txt'))\n",
    "df_valid_species = res_df.loc[res_df.cd_ref.isin(valid_species)]\n",
    "#df_valid_species.to_csv('filelist/cbna_valid_species.csv', sep=',', encoding='utf-8', index=False)"
   ]
  },
  {
   "cell_type": "code",
   "execution_count": 8,
   "id": "61766635-498d-4676-9046-42bb09cb3dd9",
   "metadata": {
    "tags": []
   },
   "outputs": [
    {
     "data": {
      "text/plain": [
       "2522"
      ]
     },
     "execution_count": 8,
     "metadata": {},
     "output_type": "execute_result"
    }
   ],
   "source": [
    "len(np.unique(df_valid_species.cd_ref.values))"
   ]
  },
  {
   "cell_type": "code",
   "execution_count": 9,
   "id": "36a1a194-e736-4f35-99fe-df2c4043bf84",
   "metadata": {
    "tags": []
   },
   "outputs": [],
   "source": [
    "cnt = df_valid_species.groupby('cd_ref')['cd_ref'].transform('count')\n",
    "df_valid_species = df_valid_species.assign(label_cnt=cnt)"
   ]
  },
  {
   "cell_type": "code",
   "execution_count": 10,
   "id": "e2ea7b31-021e-446a-9742-1207595b95e2",
   "metadata": {
    "tags": []
   },
   "outputs": [
    {
     "data": {
      "text/plain": [
       "30"
      ]
     },
     "execution_count": 10,
     "metadata": {},
     "output_type": "execute_result"
    }
   ],
   "source": [
    "np.min(df_valid_species.label_cnt.values)"
   ]
  },
  {
   "cell_type": "code",
   "execution_count": 11,
   "id": "d51f56ec-97a4-4675-818e-b47658021ee0",
   "metadata": {
    "tags": []
   },
   "outputs": [],
   "source": [
    "labelset = df_valid_species[['id_img', 'id_releve', 'cd_ref', 'x_l93', 'y_l93']].groupby(['id_img', 'id_releve'])['cd_ref'].transform(lambda x: ','.join(x.astype(str)))\n",
    "tailed_df = df_valid_species.assign(labelset=labelset)"
   ]
  },
  {
   "cell_type": "code",
   "execution_count": 12,
   "id": "833f0900-7141-451a-a925-f3071a7aacbf",
   "metadata": {
    "tags": []
   },
   "outputs": [
    {
     "data": {
      "text/plain": [
       "(158292, 5)"
      ]
     },
     "execution_count": 12,
     "metadata": {},
     "output_type": "execute_result"
    }
   ],
   "source": [
    "res = tailed_df[['id_img', 'id_releve', 'labelset', 'x_l93', 'y_l93']].drop_duplicates()\n",
    "res.reset_index(drop=True, inplace=True)\n",
    "res.shape"
   ]
  },
  {
   "cell_type": "code",
   "execution_count": 14,
   "id": "25166d63-a6b9-4c88-859c-02fc47aa0382",
   "metadata": {
    "tags": []
   },
   "outputs": [],
   "source": [
    "cbna_w_covariates = pd.read_csv('filelist/cbna_w_covariates.csv',sep=',',low_memory=False)"
   ]
  },
  {
   "cell_type": "code",
   "execution_count": 15,
   "id": "16dab5fc-5128-43c1-a165-6d78737b1ed0",
   "metadata": {
    "tags": []
   },
   "outputs": [
    {
     "data": {
      "text/plain": [
       "(160296, 35)"
      ]
     },
     "execution_count": 15,
     "metadata": {},
     "output_type": "execute_result"
    }
   ],
   "source": [
    "cbna_w_covariates.shape"
   ]
  },
  {
   "cell_type": "code",
   "execution_count": 17,
   "id": "78960c09-dca1-41ca-a272-50d8db96d7b4",
   "metadata": {
    "tags": []
   },
   "outputs": [],
   "source": [
    "pivot_feature = ['id_releve']\n",
    "meta_features = ['LANDOLT_MOIST',\n",
    "       'N_prct', 'pH', 'CN', 'TMeanY', 'TSeason', 'PTotY', 'PSeason', 'RTotY',\n",
    "       'RSeason', 'AMPL', 'LENGTH', 'eauvive', 'clay', 'silt', 'sand', 'cv_alti']"
   ]
  },
  {
   "cell_type": "code",
   "execution_count": 21,
   "id": "33e245fe-1a8f-4f00-89be-0a776c90e2d5",
   "metadata": {
    "tags": []
   },
   "outputs": [],
   "source": [
    "cbna_final_w_covariates = res.merge(cbna_w_covariates[pivot_feature+meta_features], on='id_releve')"
   ]
  },
  {
   "cell_type": "code",
   "execution_count": 25,
   "id": "4e609eb1-6624-44b0-9b12-43de78fe8975",
   "metadata": {
    "tags": []
   },
   "outputs": [
    {
     "data": {
      "text/plain": [
       "(158292, 22)"
      ]
     },
     "execution_count": 25,
     "metadata": {},
     "output_type": "execute_result"
    }
   ],
   "source": [
    "cbna_final_w_covariates.shape"
   ]
  },
  {
   "cell_type": "code",
   "execution_count": null,
   "id": "5e012f06-7988-44a5-82fb-c2a31a8cf21b",
   "metadata": {},
   "outputs": [],
   "source": [
    "#cbna_final_w_covariates.to_csv('filelist/cbna_final_w_covariates.csv', sep=',', encoding='utf-8', index=False)"
   ]
  }
 ],
 "metadata": {
  "kernelspec": {
   "display_name": "Python 3 (ipykernel)",
   "language": "python",
   "name": "python3"
  },
  "language_info": {
   "codemirror_mode": {
    "name": "ipython",
    "version": 3
   },
   "file_extension": ".py",
   "mimetype": "text/x-python",
   "name": "python",
   "nbconvert_exporter": "python",
   "pygments_lexer": "ipython3",
   "version": "3.10.12"
  }
 },
 "nbformat": 4,
 "nbformat_minor": 5
}
