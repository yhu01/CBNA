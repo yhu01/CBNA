{
 "cells": [
  {
   "cell_type": "code",
   "execution_count": 1,
   "id": "fcb60696-728f-4087-b655-0a6b0ebbe7d9",
   "metadata": {
    "tags": []
   },
   "outputs": [],
   "source": [
    "import os\n",
    "import rasterio as rio                                                                                                                                                                                         \n",
    "import tifffile\n",
    "import pandas as pd\n",
    "import numpy as np\n",
    "import seaborn as sns\n",
    "import matplotlib.pyplot as plt\n",
    "import torch\n",
    "import csv\n",
    "import pickle\n",
    "from pathlib import Path\n",
    "import torchvision.transforms as transforms\n",
    "from PIL import ImageEnhance, Image\n",
    "import geopandas as gpd\n",
    "from shapely.geometry import Point\n",
    "\n",
    "%matplotlib inline\n",
    "\n",
    "def save_pickle(file, data):\n",
    "    with open(file, 'wb') as f:\n",
    "        pickle.dump(data, f)\n",
    "\n",
    "        \n",
    "def load_pickle(file):\n",
    "    with open(file, 'rb') as f:\n",
    "        return pickle.load(f)"
   ]
  },
  {
   "cell_type": "code",
   "execution_count": 2,
   "id": "11ef5c40-90cd-47b9-8fbc-28715f66b3a0",
   "metadata": {
    "tags": []
   },
   "outputs": [],
   "source": [
    "df = pd.read_csv('filelist/cbna_final_w_covariates.csv', sep=',', low_memory=False, dtype={'labelset': str})"
   ]
  },
  {
   "cell_type": "code",
   "execution_count": 3,
   "id": "ac260c05-cf44-4191-86d9-a8364bd35aa8",
   "metadata": {
    "tags": []
   },
   "outputs": [
    {
     "data": {
      "text/plain": [
       "(158292, 22)"
      ]
     },
     "execution_count": 3,
     "metadata": {},
     "output_type": "execute_result"
    }
   ],
   "source": [
    "df.shape"
   ]
  },
  {
   "cell_type": "markdown",
   "id": "ddb05c29-2e8c-4495-b311-d40db51ac13b",
   "metadata": {},
   "source": [
    "## One-hot encoding"
   ]
  },
  {
   "cell_type": "code",
   "execution_count": 4,
   "id": "bdf4fcb4-7d86-43b1-a327-359f23f173d5",
   "metadata": {
    "tags": []
   },
   "outputs": [],
   "source": [
    "lis = df['labelset'].str.split(',').values.tolist()"
   ]
  },
  {
   "cell_type": "code",
   "execution_count": 5,
   "id": "2c8ceda7-d3ef-4407-871f-2e126eac0c5b",
   "metadata": {
    "tags": []
   },
   "outputs": [],
   "source": [
    "from sklearn.preprocessing import MultiLabelBinarizer\n",
    "mlb = MultiLabelBinarizer()\n",
    "labels = mlb.fit_transform(lis)"
   ]
  },
  {
   "cell_type": "code",
   "execution_count": 6,
   "id": "ee8bd2f2-c93c-42bf-a1e9-e32eb35b52c1",
   "metadata": {
    "tags": []
   },
   "outputs": [
    {
     "data": {
      "text/plain": [
       "2522"
      ]
     },
     "execution_count": 6,
     "metadata": {},
     "output_type": "execute_result"
    }
   ],
   "source": [
    "len(mlb.classes_)"
   ]
  },
  {
   "cell_type": "code",
   "execution_count": 7,
   "id": "3f7a1d2d-44d0-473a-b185-4c3e9fe87d13",
   "metadata": {},
   "outputs": [],
   "source": [
    "#np.savetxt('datafile/classes.txt', mlb.classes_, delimiter=\" \", fmt=\"%s\")"
   ]
  },
  {
   "cell_type": "code",
   "execution_count": 7,
   "id": "e3e57baf-a74e-4d1e-95d2-a113a5894853",
   "metadata": {
    "tags": []
   },
   "outputs": [
    {
     "name": "stdout",
     "output_type": "stream",
     "text": [
      "2522\n"
     ]
    }
   ],
   "source": [
    "classes = np.genfromtxt('datafile/classes.txt', dtype='str')\n",
    "print(len(classes))"
   ]
  },
  {
   "cell_type": "markdown",
   "id": "7c9a65c7-2811-4dad-8361-14ed5f87eff3",
   "metadata": {},
   "source": [
    "## Get train and valtest split (0.8/0.2)"
   ]
  },
  {
   "cell_type": "code",
   "execution_count": 9,
   "id": "c35cb28a-dbdd-4de2-a241-1379d3e701b7",
   "metadata": {
    "tags": []
   },
   "outputs": [],
   "source": [
    "from iterstrat.ml_stratifiers import MultilabelStratifiedShuffleSplit\n",
    "from sklearn.utils import indexable, _safe_indexing\n",
    "from sklearn.utils.validation import _num_samples\n",
    "from sklearn.model_selection._split import _validate_shuffle_split\n",
    "from itertools import chain\n",
    "\n",
    "def multilabel_train_test_split(*arrays,\n",
    "                                test_size=None,\n",
    "                                train_size=None,\n",
    "                                random_state=None,\n",
    "                                shuffle=True,\n",
    "                                stratify=None):\n",
    "    \"\"\"\n",
    "    Train test split for multilabel classification. Uses the algorithm from: \n",
    "    'Sechidis K., Tsoumakas G., Vlahavas I. (2011) On the Stratification of Multi-Label Data'.\n",
    "    \"\"\"\n",
    "    if stratify is None:\n",
    "        return train_test_split(*arrays, test_size=test_size,train_size=train_size,\n",
    "                                random_state=random_state, stratify=None, shuffle=shuffle)\n",
    "    \n",
    "    assert shuffle, \"Stratified train/test split is not implemented for shuffle=False\"\n",
    "    \n",
    "    n_arrays = len(arrays)\n",
    "    arrays = indexable(*arrays)\n",
    "    n_samples = _num_samples(arrays[0])\n",
    "    n_train, n_test = _validate_shuffle_split(\n",
    "        n_samples, test_size, train_size, default_test_size=0.25\n",
    "    )\n",
    "    cv = MultilabelStratifiedShuffleSplit(test_size=n_test, train_size=n_train, random_state=123)\n",
    "    train, test = next(cv.split(X=arrays[0], y=stratify))\n",
    "\n",
    "    return list(\n",
    "        chain.from_iterable(\n",
    "            (_safe_indexing(a, train), _safe_indexing(a, test)) for a in arrays\n",
    "        )\n",
    "    )"
   ]
  },
  {
   "cell_type": "code",
   "execution_count": 10,
   "id": "c38d5c7d-6700-463b-8e68-f953229e4b77",
   "metadata": {
    "tags": []
   },
   "outputs": [],
   "source": [
    "index_train, index_valtest, _ , _ = multilabel_train_test_split(df.index.values.reshape(-1,1), labels, stratify=labels, test_size=0.20)"
   ]
  },
  {
   "cell_type": "code",
   "execution_count": 11,
   "id": "8b65c52a-e356-4f70-a61f-7ff5b9906e56",
   "metadata": {
    "tags": []
   },
   "outputs": [],
   "source": [
    "train_df = df[df.index.isin(index_train.squeeze())]\n",
    "valtest_df = df[df.index.isin(index_valtest.squeeze())]"
   ]
  },
  {
   "cell_type": "code",
   "execution_count": 12,
   "id": "b931142a-b206-41eb-a415-7118b37776ed",
   "metadata": {
    "tags": []
   },
   "outputs": [],
   "source": [
    "#train_df.to_csv('datafile/train_w_covariates.csv', sep=',', encoding='utf-8', index=False)\n",
    "#valtest_df.to_csv('datafile/valtest_w_covariates.csv', sep=',', encoding='utf-8', index=False)"
   ]
  },
  {
   "cell_type": "code",
   "execution_count": 13,
   "id": "aaa54af3-61ce-441a-bbe0-091a3be4743e",
   "metadata": {
    "tags": []
   },
   "outputs": [],
   "source": [
    "train_labels = labels[index_train.squeeze()]\n",
    "valtest_labels = labels[index_valtest.squeeze()]"
   ]
  },
  {
   "cell_type": "markdown",
   "id": "56b838b7-f463-45e7-9cf3-92a3d618f7d6",
   "metadata": {},
   "source": [
    "## Get val and test split from valtest (0.5/0.5)"
   ]
  },
  {
   "cell_type": "code",
   "execution_count": 14,
   "id": "c8968b0d-088e-4c3e-a402-838997e29bbe",
   "metadata": {
    "tags": []
   },
   "outputs": [],
   "source": [
    "train_df.reset_index(drop=True, inplace=True)\n",
    "valtest_df.reset_index(drop=True, inplace=True)"
   ]
  },
  {
   "cell_type": "code",
   "execution_count": 15,
   "id": "43b492c9-9dd0-4cd5-9967-9bb62f980445",
   "metadata": {
    "tags": []
   },
   "outputs": [],
   "source": [
    "index_val, index_test, _ , _ = multilabel_train_test_split(valtest_df.index.values.reshape(-1,1), valtest_labels, stratify=valtest_labels, test_size=0.5)"
   ]
  },
  {
   "cell_type": "code",
   "execution_count": 16,
   "id": "62355b76-e40d-429d-871f-7cd79ccf51a3",
   "metadata": {
    "tags": []
   },
   "outputs": [],
   "source": [
    "val_df = valtest_df[valtest_df.index.isin(index_val.squeeze())]\n",
    "test_df = valtest_df[valtest_df.index.isin(index_test.squeeze())]"
   ]
  },
  {
   "cell_type": "code",
   "execution_count": 17,
   "id": "8bf9f421-9229-4725-aac6-b38be3559914",
   "metadata": {
    "tags": []
   },
   "outputs": [],
   "source": [
    "#val_df.to_csv('datafile/val_w_covariates.csv', sep=',', encoding='utf-8', index=False)\n",
    "#test_df.to_csv('datafile/test_w_covariates.csv', sep=',', encoding='utf-8', index=False)"
   ]
  },
  {
   "cell_type": "code",
   "execution_count": 18,
   "id": "00ea88af-6441-4f22-a3c3-1a9c9900df97",
   "metadata": {
    "tags": []
   },
   "outputs": [],
   "source": [
    "val_labels = valtest_labels[index_val.squeeze()]\n",
    "test_labels = valtest_labels[index_test.squeeze()]"
   ]
  },
  {
   "cell_type": "markdown",
   "id": "ae00f33a-5845-496e-8ce8-ffa9083b2aaf",
   "metadata": {},
   "source": [
    "## Create a 100-meter buffer for each test data"
   ]
  },
  {
   "cell_type": "code",
   "execution_count": 19,
   "id": "98ea9e2c-f155-4cfc-b896-c27a1d1b0e45",
   "metadata": {
    "tags": []
   },
   "outputs": [],
   "source": [
    "# Create GeoDataFrames for train and test set\n",
    "train_gdf = gpd.GeoDataFrame(geometry=[Point(lon, lat) for lat, lon in train_df[['x_l93','y_l93']].values], \n",
    "                                   crs=\"EPSG:2154\")\n",
    "\n",
    "test_gdf = gpd.GeoDataFrame(geometry=[Point(lon, lat) for lat, lon in test_df[['x_l93','y_l93']].values], \n",
    "                                   crs=\"EPSG:2154\")"
   ]
  },
  {
   "cell_type": "code",
   "execution_count": 21,
   "id": "12417f4f-d854-4088-880a-a9712513806b",
   "metadata": {
    "tags": []
   },
   "outputs": [],
   "source": [
    "test_gdf['buffer'] = test_gdf['geometry'].buffer(100)  \n",
    "test_gdf.set_geometry('buffer', inplace=True)\n",
    "joined = gpd.sjoin(train_gdf, test_gdf[['buffer']], predicate='within')\n",
    "\n",
    "all_indices = [i for i in range(train_df.shape[0])]\n",
    "indices = list(joined.index)\n",
    "final_idx = list(set(all_indices) - set(indices))\n",
    "train_modi_df = train_df.iloc[final_idx]"
   ]
  },
  {
   "cell_type": "code",
   "execution_count": 22,
   "id": "f1da32c7-364b-40ad-879b-3fdeeafadefd",
   "metadata": {
    "tags": []
   },
   "outputs": [
    {
     "data": {
      "text/plain": [
       "(98763, 22)"
      ]
     },
     "execution_count": 22,
     "metadata": {},
     "output_type": "execute_result"
    }
   ],
   "source": [
    "train_modi_df.shape"
   ]
  },
  {
   "cell_type": "code",
   "execution_count": null,
   "id": "7c92e23a-5b36-4c82-a988-2d567b88fb55",
   "metadata": {},
   "outputs": [],
   "source": [
    "#train_modi_df.to_csv('datafile/train_w_covariates_final.csv', sep=',', encoding='utf-8', index=False)"
   ]
  },
  {
   "cell_type": "code",
   "execution_count": 24,
   "id": "c3af1be2-b61c-4d10-9311-e7bcd96dfdd9",
   "metadata": {
    "tags": []
   },
   "outputs": [],
   "source": [
    "meta_features = ['LANDOLT_MOIST',\n",
    "       'N_prct', 'pH', 'CN', 'TMeanY', 'TSeason', 'PTotY', 'PSeason', 'RTotY',\n",
    "       'RSeason', 'AMPL', 'LENGTH', 'eauvive', 'clay', 'silt', 'sand', 'cv_alti']"
   ]
  },
  {
   "cell_type": "code",
   "execution_count": 25,
   "id": "7b75ff6c-0ca4-46fa-a5a0-85a84910d40a",
   "metadata": {
    "tags": []
   },
   "outputs": [],
   "source": [
    "m = torch.tensor(np.mean(train_modi_df[meta_features].values, axis=0)).float()\n",
    "std = torch.tensor(np.std(train_modi_df[meta_features].values, axis=0)).float()\n",
    "\n",
    "save_dict = {'mean': m, 'std': std}\n",
    "#torch.save(save_dict, 'datafile/stats_meta_wolc.pth')"
   ]
  },
  {
   "cell_type": "code",
   "execution_count": 27,
   "id": "9217408e-91dc-4560-85df-0b9c4830dc18",
   "metadata": {
    "tags": []
   },
   "outputs": [],
   "source": [
    "def get_label_count(df):\n",
    "    classes = list(np.genfromtxt('datafile/classes.txt', dtype='str'))\n",
    "    num_cls = len(classes)\n",
    "    init_values = [0] * num_cls\n",
    "    label_cnt = dict(zip(classes, init_values))\n",
    "\n",
    "    labelset_arrays = df.labelset.values\n",
    "    for i in range(len(labelset_arrays)):\n",
    "        labelset = labelset_arrays[i].split(',')\n",
    "        for label in labelset:\n",
    "            label_cnt[label] += 1\n",
    "\n",
    "    return label_cnt"
   ]
  },
  {
   "cell_type": "code",
   "execution_count": 29,
   "id": "81544df2-6282-4b51-af3f-db1ee92124f5",
   "metadata": {
    "tags": []
   },
   "outputs": [
    {
     "name": "stdout",
     "output_type": "stream",
     "text": [
      "13857\n"
     ]
    }
   ],
   "source": [
    "label_cnt = get_label_count(train_modi_df)\n",
    "print(np.max(np.array(list(label_cnt.values()))))"
   ]
  },
  {
   "cell_type": "code",
   "execution_count": 30,
   "id": "f9c42863-1aba-4bde-89da-bcb4256a9afd",
   "metadata": {
    "tags": []
   },
   "outputs": [
    {
     "data": {
      "image/png": "[encoded data removed]",
      "text/plain": [
       "<Figure size 1000x500 with 1 Axes>"
      ]
     },
     "metadata": {},
     "output_type": "display_data"
    }
   ],
   "source": [
    "plt.figure(figsize=(10,5))\n",
    "plt.plot(np.sort(np.array(list(label_cnt.values())))[::-1])\n",
    "plt.tick_params(\n",
    "    axis='x',          # changes apply to the x-axis\n",
    "    which='both',      # both major and minor ticks are affected\n",
    "    bottom=False,      # ticks along the bottom edge are off\n",
    "    top=False,         # ticks along the top edge are off\n",
    "    labelbottom=False) # labels along the bottom edge are off\n",
    "plt.show()"
   ]
  },
  {
   "cell_type": "code",
   "execution_count": null,
   "id": "69810525-7e90-4b9a-b936-94a61d7e12ee",
   "metadata": {},
   "outputs": [],
   "source": []
  }
 ],
 "metadata": {
  "kernelspec": {
   "display_name": "Python 3 (ipykernel)",
   "language": "python",
   "name": "python3"
  },
  "language_info": {
   "codemirror_mode": {
    "name": "ipython",
    "version": 3
   },
   "file_extension": ".py",
   "mimetype": "text/x-python",
   "name": "python",
   "nbconvert_exporter": "python",
   "pygments_lexer": "ipython3",
   "version": "3.10.12"
  }
 },
 "nbformat": 4,
 "nbformat_minor": 5
}
