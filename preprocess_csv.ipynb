{
 "cells": [
  {
   "cell_type": "code",
   "execution_count": 4,
   "id": "eda16dc8-821b-4a87-b15d-df60ce05f8a1",
   "metadata": {
    "tags": []
   },
   "outputs": [],
   "source": [
    "import os\n",
    "import rasterio as rio\n",
    "import tifffile\n",
    "import pandas as pd\n",
    "import numpy as np\n",
    "import seaborn as sns\n",
    "import matplotlib.pyplot as plt\n",
    "from pathlib import Path\n",
    "from PIL import ImageEnhance, Image\n",
    "import matplotlib.pyplot as plt\n",
    "#from osgeo import gdal\n",
    "import torch\n",
    "import pickle\n",
    "#%matplotlib widget"
   ]
  },
  {
   "cell_type": "code",
   "execution_count": 2,
   "id": "43d2639c-c593-487d-af25-c676f66313ef",
   "metadata": {
    "tags": []
   },
   "outputs": [],
   "source": [
    "def save_pickle(file, data):\n",
    "    with open(file, 'wb') as f:\n",
    "        pickle.dump(data, f)\n",
    "\n",
    "        \n",
    "def load_pickle(file):\n",
    "    with open(file, 'rb') as f:\n",
    "        return pickle.load(f)"
   ]
  },
  {
   "cell_type": "code",
   "execution_count": 2,
   "id": "d3f5ae62-fce1-4d7e-82d3-bbda8017dd8d",
   "metadata": {
    "tags": []
   },
   "outputs": [],
   "source": [
    "cbna_data = pd.read_csv('filelist/export_cbna_20220414.csv',sep='\\t',low_memory=False)"
   ]
  },
  {
   "cell_type": "code",
   "execution_count": 3,
   "id": "2ecd4c7a-9780-49d6-8dcc-016282bc3d74",
   "metadata": {
    "tags": []
   },
   "outputs": [],
   "source": [
    "cbna_releves = cbna_data[['id_releve','id_releve_type','date_releve_deb','x_l93','y_l93']].copy()\n",
    "cbna_releves['year']=cbna_releves['date_releve_deb'].apply(lambda x: x.split('-')[0] if x==x else 0)\n",
    "cbna_releves['month']=cbna_releves['date_releve_deb'].apply(lambda x: x.split('-')[1] if x==x else 0)\n",
    "cbna_releves = cbna_releves.drop_duplicates()"
   ]
  },
  {
   "cell_type": "code",
   "execution_count": 4,
   "id": "ab3100d6-ab4a-443e-9127-a52b58e2e994",
   "metadata": {
    "tags": []
   },
   "outputs": [
    {
     "data": {
      "text/html": [
       "<div>\n",
       "<style scoped>\n",
       "    .dataframe tbody tr th:only-of-type {\n",
       "        vertical-align: middle;\n",
       "    }\n",
       "\n",
       "    .dataframe tbody tr th {\n",
       "        vertical-align: top;\n",
       "    }\n",
       "\n",
       "    .dataframe thead th {\n",
       "        text-align: right;\n",
       "    }\n",
       "</style>\n",
       "<table border=\"1\" class=\"dataframe\">\n",
       "  <thead>\n",
       "    <tr style=\"text-align: right;\">\n",
       "      <th></th>\n",
       "      <th>id_releve</th>\n",
       "      <th>id_releve_type</th>\n",
       "      <th>date_releve_deb</th>\n",
       "      <th>x_l93</th>\n",
       "      <th>y_l93</th>\n",
       "      <th>year</th>\n",
       "      <th>month</th>\n",
       "      <th>id_img</th>\n",
       "    </tr>\n",
       "  </thead>\n",
       "  <tbody>\n",
       "    <tr>\n",
       "      <th>0</th>\n",
       "      <td>9311028</td>\n",
       "      <td>RT</td>\n",
       "      <td>2016-05-23</td>\n",
       "      <td>852114.02</td>\n",
       "      <td>6597167.71</td>\n",
       "      <td>2016</td>\n",
       "      <td>05</td>\n",
       "      <td>0</td>\n",
       "    </tr>\n",
       "    <tr>\n",
       "      <th>1</th>\n",
       "      <td>9011945</td>\n",
       "      <td>RT</td>\n",
       "      <td>2010-05-07</td>\n",
       "      <td>881326.00</td>\n",
       "      <td>6544938.00</td>\n",
       "      <td>2010</td>\n",
       "      <td>05</td>\n",
       "      <td>1</td>\n",
       "    </tr>\n",
       "    <tr>\n",
       "      <th>2</th>\n",
       "      <td>9163061</td>\n",
       "      <td>RT</td>\n",
       "      <td>2014-06-19</td>\n",
       "      <td>910044.00</td>\n",
       "      <td>6574203.00</td>\n",
       "      <td>2014</td>\n",
       "      <td>06</td>\n",
       "      <td>2</td>\n",
       "    </tr>\n",
       "    <tr>\n",
       "      <th>3</th>\n",
       "      <td>9311218</td>\n",
       "      <td>RT</td>\n",
       "      <td>2016-04-29</td>\n",
       "      <td>897967.00</td>\n",
       "      <td>6523258.00</td>\n",
       "      <td>2016</td>\n",
       "      <td>04</td>\n",
       "      <td>3</td>\n",
       "    </tr>\n",
       "    <tr>\n",
       "      <th>4</th>\n",
       "      <td>9688247</td>\n",
       "      <td>RT</td>\n",
       "      <td>2014-05-20</td>\n",
       "      <td>893094.00</td>\n",
       "      <td>6524818.00</td>\n",
       "      <td>2014</td>\n",
       "      <td>05</td>\n",
       "      <td>4</td>\n",
       "    </tr>\n",
       "  </tbody>\n",
       "</table>\n",
       "</div>"
      ],
      "text/plain": [
       "   id_releve id_releve_type date_releve_deb      x_l93       y_l93  year  \\\n",
       "0    9311028             RT      2016-05-23  852114.02  6597167.71  2016   \n",
       "1    9011945             RT      2010-05-07  881326.00  6544938.00  2010   \n",
       "2    9163061             RT      2014-06-19  910044.00  6574203.00  2014   \n",
       "3    9311218             RT      2016-04-29  897967.00  6523258.00  2016   \n",
       "4    9688247             RT      2014-05-20  893094.00  6524818.00  2014   \n",
       "\n",
       "  month  id_img  \n",
       "0    05       0  \n",
       "1    05       1  \n",
       "2    06       2  \n",
       "3    04       3  \n",
       "4    05       4  "
      ]
     },
     "execution_count": 4,
     "metadata": {},
     "output_type": "execute_result"
    }
   ],
   "source": [
    "obs_metadata = cbna_releves.reset_index(drop=True)\n",
    "obs_metadata['id_img'] = obs_metadata.index\n",
    "obs_metadata.head()"
   ]
  },
  {
   "cell_type": "code",
   "execution_count": 5,
   "id": "e696f477-a51c-4deb-9b7c-00fcfcfa7bd7",
   "metadata": {
    "tags": []
   },
   "outputs": [],
   "source": [
    "#obs_metadata.to_csv('filelist/cbna_simplified.csv', sep=',', encoding='utf-8', index=False)"
   ]
  },
  {
   "cell_type": "code",
   "execution_count": 6,
   "id": "2939c27a-d9c9-4cf2-816c-6f4f51dd640d",
   "metadata": {
    "tags": []
   },
   "outputs": [
    {
     "data": {
      "text/html": [
       "<div>\n",
       "<style scoped>\n",
       "    .dataframe tbody tr th:only-of-type {\n",
       "        vertical-align: middle;\n",
       "    }\n",
       "\n",
       "    .dataframe tbody tr th {\n",
       "        vertical-align: top;\n",
       "    }\n",
       "\n",
       "    .dataframe thead th {\n",
       "        text-align: right;\n",
       "    }\n",
       "</style>\n",
       "<table border=\"1\" class=\"dataframe\">\n",
       "  <thead>\n",
       "    <tr style=\"text-align: right;\">\n",
       "      <th></th>\n",
       "      <th>id_releve</th>\n",
       "      <th>id_releve_type</th>\n",
       "      <th>date_releve_deb</th>\n",
       "      <th>x_l93</th>\n",
       "      <th>y_l93</th>\n",
       "      <th>year</th>\n",
       "      <th>month</th>\n",
       "      <th>id_img</th>\n",
       "    </tr>\n",
       "  </thead>\n",
       "  <tbody>\n",
       "    <tr>\n",
       "      <th>0</th>\n",
       "      <td>9311028</td>\n",
       "      <td>RT</td>\n",
       "      <td>2016-05-23</td>\n",
       "      <td>852114.02</td>\n",
       "      <td>6597167.71</td>\n",
       "      <td>2016</td>\n",
       "      <td>5</td>\n",
       "      <td>0</td>\n",
       "    </tr>\n",
       "    <tr>\n",
       "      <th>1</th>\n",
       "      <td>9011945</td>\n",
       "      <td>RT</td>\n",
       "      <td>2010-05-07</td>\n",
       "      <td>881326.00</td>\n",
       "      <td>6544938.00</td>\n",
       "      <td>2010</td>\n",
       "      <td>5</td>\n",
       "      <td>1</td>\n",
       "    </tr>\n",
       "    <tr>\n",
       "      <th>2</th>\n",
       "      <td>9163061</td>\n",
       "      <td>RT</td>\n",
       "      <td>2014-06-19</td>\n",
       "      <td>910044.00</td>\n",
       "      <td>6574203.00</td>\n",
       "      <td>2014</td>\n",
       "      <td>6</td>\n",
       "      <td>2</td>\n",
       "    </tr>\n",
       "    <tr>\n",
       "      <th>3</th>\n",
       "      <td>9311218</td>\n",
       "      <td>RT</td>\n",
       "      <td>2016-04-29</td>\n",
       "      <td>897967.00</td>\n",
       "      <td>6523258.00</td>\n",
       "      <td>2016</td>\n",
       "      <td>4</td>\n",
       "      <td>3</td>\n",
       "    </tr>\n",
       "    <tr>\n",
       "      <th>4</th>\n",
       "      <td>9688247</td>\n",
       "      <td>RT</td>\n",
       "      <td>2014-05-20</td>\n",
       "      <td>893094.00</td>\n",
       "      <td>6524818.00</td>\n",
       "      <td>2014</td>\n",
       "      <td>5</td>\n",
       "      <td>4</td>\n",
       "    </tr>\n",
       "  </tbody>\n",
       "</table>\n",
       "</div>"
      ],
      "text/plain": [
       "   id_releve id_releve_type date_releve_deb      x_l93       y_l93  year  \\\n",
       "0    9311028             RT      2016-05-23  852114.02  6597167.71  2016   \n",
       "1    9011945             RT      2010-05-07  881326.00  6544938.00  2010   \n",
       "2    9163061             RT      2014-06-19  910044.00  6574203.00  2014   \n",
       "3    9311218             RT      2016-04-29  897967.00  6523258.00  2016   \n",
       "4    9688247             RT      2014-05-20  893094.00  6524818.00  2014   \n",
       "\n",
       "   month  id_img  \n",
       "0      5       0  \n",
       "1      5       1  \n",
       "2      6       2  \n",
       "3      4       3  \n",
       "4      5       4  "
      ]
     },
     "execution_count": 6,
     "metadata": {},
     "output_type": "execute_result"
    }
   ],
   "source": [
    "cbna_sim = pd.read_csv('filelist/cbna_simplified.csv',sep=',',low_memory=False)\n",
    "cbna_sim.head()"
   ]
  },
  {
   "cell_type": "code",
   "execution_count": 7,
   "id": "6db15991-6f3a-4447-b3c4-59a6d41bada9",
   "metadata": {
    "tags": []
   },
   "outputs": [
    {
     "data": {
      "text/plain": [
       "(1595464, 8)"
      ]
     },
     "execution_count": 7,
     "metadata": {},
     "output_type": "execute_result"
    }
   ],
   "source": [
    "cbna_sim.shape"
   ]
  },
  {
   "cell_type": "code",
   "execution_count": 8,
   "id": "c4d54cdf-ae4a-49c9-b62e-0363755e675b",
   "metadata": {
    "tags": []
   },
   "outputs": [
    {
     "data": {
      "text/plain": [
       "Index(['id_observation', 'id_releve', 'id_releve_type', 'nom_org_f',\n",
       "       'lib_releve_methode', 'date_releve_deb', 'nom_obs', 'id_precision',\n",
       "       'x_l93', 'y_l93', 'surface', 'rec_arbo_pl', 'rec_arbu_pl',\n",
       "       'rec_sarb_pl', 'rec_herba_pl', 'substr_roch_pl', 'cd_nom', 'cd_ref',\n",
       "       'nom_reconnu', 'lib_strate', 'abondance', 'comm_taxon', 'lib_det',\n",
       "       'lib_org_comm', 'meta_original_id_rel', 'meta_original_id_obs',\n",
       "       'meta_original_bdd', 'valid_reg'],\n",
       "      dtype='object')"
      ]
     },
     "execution_count": 8,
     "metadata": {},
     "output_type": "execute_result"
    }
   ],
   "source": [
    "cbna_data.columns.unique()"
   ]
  },
  {
   "cell_type": "code",
   "execution_count": 9,
   "id": "bbb538b2-455e-440f-9013-b6f487405051",
   "metadata": {
    "tags": []
   },
   "outputs": [
    {
     "data": {
      "text/plain": [
       "(3525072, 28)"
      ]
     },
     "execution_count": 9,
     "metadata": {},
     "output_type": "execute_result"
    }
   ],
   "source": [
    "cbna_com = cbna_data.loc[cbna_data['lib_releve_methode'].isin(['Relevé exhaustif habitat','Relevé phytosociologique', 'Relevé exhaustif géogr.'])]\n",
    "cbna_com.reset_index(drop=True, inplace=True)\n",
    "cbna_com.shape"
   ]
  },
  {
   "cell_type": "code",
   "execution_count": 10,
   "id": "fccbf93e-a201-46c9-900e-525fa159bb9f",
   "metadata": {
    "tags": []
   },
   "outputs": [
    {
     "data": {
      "text/html": [
       "<div>\n",
       "<style scoped>\n",
       "    .dataframe tbody tr th:only-of-type {\n",
       "        vertical-align: middle;\n",
       "    }\n",
       "\n",
       "    .dataframe tbody tr th {\n",
       "        vertical-align: top;\n",
       "    }\n",
       "\n",
       "    .dataframe thead th {\n",
       "        text-align: right;\n",
       "    }\n",
       "</style>\n",
       "<table border=\"1\" class=\"dataframe\">\n",
       "  <thead>\n",
       "    <tr style=\"text-align: right;\">\n",
       "      <th></th>\n",
       "      <th>cd_ref</th>\n",
       "      <th>nom_reconnu</th>\n",
       "      <th>id_releve</th>\n",
       "      <th>id_releve_type</th>\n",
       "      <th>date_releve_deb</th>\n",
       "      <th>x_l93</th>\n",
       "      <th>y_l93</th>\n",
       "      <th>year</th>\n",
       "      <th>month</th>\n",
       "      <th>id_img</th>\n",
       "    </tr>\n",
       "  </thead>\n",
       "  <tbody>\n",
       "    <tr>\n",
       "      <th>0</th>\n",
       "      <td>98865.0</td>\n",
       "      <td>Fragaria vesca L., 1753</td>\n",
       "      <td>8988492</td>\n",
       "      <td>RT</td>\n",
       "      <td>2009-07-03</td>\n",
       "      <td>879992.366</td>\n",
       "      <td>6566562.116</td>\n",
       "      <td>2009</td>\n",
       "      <td>7</td>\n",
       "      <td>8</td>\n",
       "    </tr>\n",
       "    <tr>\n",
       "      <th>1</th>\n",
       "      <td>86512.0</td>\n",
       "      <td>Bromopsis erecta (Huds.) Fourr., 1869</td>\n",
       "      <td>8988492</td>\n",
       "      <td>RT</td>\n",
       "      <td>2009-07-03</td>\n",
       "      <td>879992.366</td>\n",
       "      <td>6566562.116</td>\n",
       "      <td>2009</td>\n",
       "      <td>7</td>\n",
       "      <td>8</td>\n",
       "    </tr>\n",
       "    <tr>\n",
       "      <th>2</th>\n",
       "      <td>86301.0</td>\n",
       "      <td>Brachypodium rupestre (Host) Roem. &amp; Schult., ...</td>\n",
       "      <td>8988492</td>\n",
       "      <td>RT</td>\n",
       "      <td>2009-07-03</td>\n",
       "      <td>879992.366</td>\n",
       "      <td>6566562.116</td>\n",
       "      <td>2009</td>\n",
       "      <td>7</td>\n",
       "      <td>8</td>\n",
       "    </tr>\n",
       "    <tr>\n",
       "      <th>3</th>\n",
       "      <td>105247.0</td>\n",
       "      <td>Lathyrus pratensis L., 1753</td>\n",
       "      <td>8988492</td>\n",
       "      <td>RT</td>\n",
       "      <td>2009-07-03</td>\n",
       "      <td>879992.366</td>\n",
       "      <td>6566562.116</td>\n",
       "      <td>2009</td>\n",
       "      <td>7</td>\n",
       "      <td>8</td>\n",
       "    </tr>\n",
       "    <tr>\n",
       "      <th>4</th>\n",
       "      <td>115624.0</td>\n",
       "      <td>Potentilla reptans L., 1753</td>\n",
       "      <td>8988492</td>\n",
       "      <td>RT</td>\n",
       "      <td>2009-07-03</td>\n",
       "      <td>879992.366</td>\n",
       "      <td>6566562.116</td>\n",
       "      <td>2009</td>\n",
       "      <td>7</td>\n",
       "      <td>8</td>\n",
       "    </tr>\n",
       "  </tbody>\n",
       "</table>\n",
       "</div>"
      ],
      "text/plain": [
       "     cd_ref                                        nom_reconnu  id_releve  \\\n",
       "0   98865.0                            Fragaria vesca L., 1753    8988492   \n",
       "1   86512.0              Bromopsis erecta (Huds.) Fourr., 1869    8988492   \n",
       "2   86301.0  Brachypodium rupestre (Host) Roem. & Schult., ...    8988492   \n",
       "3  105247.0                        Lathyrus pratensis L., 1753    8988492   \n",
       "4  115624.0                        Potentilla reptans L., 1753    8988492   \n",
       "\n",
       "  id_releve_type date_releve_deb       x_l93        y_l93  year  month  id_img  \n",
       "0             RT      2009-07-03  879992.366  6566562.116  2009      7       8  \n",
       "1             RT      2009-07-03  879992.366  6566562.116  2009      7       8  \n",
       "2             RT      2009-07-03  879992.366  6566562.116  2009      7       8  \n",
       "3             RT      2009-07-03  879992.366  6566562.116  2009      7       8  \n",
       "4             RT      2009-07-03  879992.366  6566562.116  2009      7       8  "
      ]
     },
     "execution_count": 10,
     "metadata": {},
     "output_type": "execute_result"
    }
   ],
   "source": [
    "res_df = pd.merge(cbna_com[['cd_ref', 'nom_reconnu', 'id_releve']], cbna_sim, on='id_releve').drop_duplicates()\n",
    "res_df.head()"
   ]
  },
  {
   "cell_type": "code",
   "execution_count": 11,
   "id": "d8817b25-42a1-49ef-994b-82267d5a14d6",
   "metadata": {
    "tags": []
   },
   "outputs": [
    {
     "data": {
      "text/plain": [
       "(3481414, 10)"
      ]
     },
     "execution_count": 11,
     "metadata": {},
     "output_type": "execute_result"
    }
   ],
   "source": [
    "res_df.shape"
   ]
  },
  {
   "cell_type": "code",
   "execution_count": 12,
   "id": "2ac0c0ed-0e61-4408-ade1-6ddbde401356",
   "metadata": {
    "tags": []
   },
   "outputs": [],
   "source": [
    "res_df.dropna(subset = ['cd_ref', 'x_l93', 'y_l93', 'id_releve', 'id_img'], inplace=True)\n",
    "res_df.reset_index(drop=True, inplace=True)"
   ]
  },
  {
   "cell_type": "code",
   "execution_count": 38,
   "id": "470c2b9f-fefc-4e5a-9666-c5235f558b11",
   "metadata": {
    "tags": []
   },
   "outputs": [
    {
     "data": {
      "text/plain": [
       "(3481183, 10)"
      ]
     },
     "execution_count": 38,
     "metadata": {},
     "output_type": "execute_result"
    }
   ],
   "source": [
    "#res_df.to_csv('filelist/cbna_analysis.csv', sep=',', encoding='utf-8', index=False)"
   ]
  },
  {
   "cell_type": "code",
   "execution_count": 17,
   "id": "3d9b8608-464c-4240-b98b-8551161b4aa2",
   "metadata": {
    "tags": []
   },
   "outputs": [
    {
     "data": {
      "text/html": [
       "<div>\n",
       "<style scoped>\n",
       "    .dataframe tbody tr th:only-of-type {\n",
       "        vertical-align: middle;\n",
       "    }\n",
       "\n",
       "    .dataframe tbody tr th {\n",
       "        vertical-align: top;\n",
       "    }\n",
       "\n",
       "    .dataframe thead th {\n",
       "        text-align: right;\n",
       "    }\n",
       "</style>\n",
       "<table border=\"1\" class=\"dataframe\">\n",
       "  <thead>\n",
       "    <tr style=\"text-align: right;\">\n",
       "      <th></th>\n",
       "      <th>id_img</th>\n",
       "      <th>id_releve</th>\n",
       "      <th>x_l93</th>\n",
       "      <th>y_l93</th>\n",
       "    </tr>\n",
       "  </thead>\n",
       "  <tbody>\n",
       "    <tr>\n",
       "      <th>0</th>\n",
       "      <td>8</td>\n",
       "      <td>8988492</td>\n",
       "      <td>879992.366000</td>\n",
       "      <td>6.566562e+06</td>\n",
       "    </tr>\n",
       "    <tr>\n",
       "      <th>1</th>\n",
       "      <td>13</td>\n",
       "      <td>9609307</td>\n",
       "      <td>929112.688966</td>\n",
       "      <td>6.585048e+06</td>\n",
       "    </tr>\n",
       "    <tr>\n",
       "      <th>2</th>\n",
       "      <td>14</td>\n",
       "      <td>9177916</td>\n",
       "      <td>926915.192400</td>\n",
       "      <td>6.579395e+06</td>\n",
       "    </tr>\n",
       "    <tr>\n",
       "      <th>3</th>\n",
       "      <td>16</td>\n",
       "      <td>9974388</td>\n",
       "      <td>861730.343400</td>\n",
       "      <td>6.584492e+06</td>\n",
       "    </tr>\n",
       "    <tr>\n",
       "      <th>4</th>\n",
       "      <td>23</td>\n",
       "      <td>9950726</td>\n",
       "      <td>848349.322000</td>\n",
       "      <td>6.535917e+06</td>\n",
       "    </tr>\n",
       "  </tbody>\n",
       "</table>\n",
       "</div>"
      ],
      "text/plain": [
       "   id_img  id_releve          x_l93         y_l93\n",
       "0       8    8988492  879992.366000  6.566562e+06\n",
       "1      13    9609307  929112.688966  6.585048e+06\n",
       "2      14    9177916  926915.192400  6.579395e+06\n",
       "3      16    9974388  861730.343400  6.584492e+06\n",
       "4      23    9950726  848349.322000  6.535917e+06"
      ]
     },
     "execution_count": 17,
     "metadata": {},
     "output_type": "execute_result"
    }
   ],
   "source": [
    "res_norepeat_df = res_df[['id_img', 'id_releve', 'x_l93', 'y_l93']].drop_duplicates()\n",
    "res_norepeat_df.reset_index(drop=True, inplace=True)\n",
    "res_norepeat_df.head()"
   ]
  },
  {
   "cell_type": "code",
   "execution_count": 33,
   "id": "d49ac048-ef5a-463e-8f59-81ffdeef6400",
   "metadata": {
    "tags": []
   },
   "outputs": [
    {
     "data": {
      "text/plain": [
       "(162293, 4)"
      ]
     },
     "execution_count": 33,
     "metadata": {},
     "output_type": "execute_result"
    }
   ],
   "source": [
    "res_norepeat_df.shape"
   ]
  },
  {
   "cell_type": "code",
   "execution_count": null,
   "id": "5890972b-5e0e-411c-8376-c9ff9789a2cb",
   "metadata": {},
   "outputs": [],
   "source": [
    "#res_norepeat_df.to_csv('filelist/cbna_norepeat.csv', sep=',', encoding='utf-8', index=False)"
   ]
  },
  {
   "cell_type": "code",
   "execution_count": 54,
   "id": "6aca40db-94b6-4042-9e24-bcd461c8cc96",
   "metadata": {
    "tags": []
   },
   "outputs": [],
   "source": [
    "invalid_idx_img = load_pickle('./filelist/invalid_patch.pkl')['invalid_img']"
   ]
  },
  {
   "cell_type": "code",
   "execution_count": 55,
   "id": "c00cb665-58fa-43cf-bbf1-894f6821ffa2",
   "metadata": {
    "tags": []
   },
   "outputs": [],
   "source": [
    "invalid_df = res_norepeat_df.iloc[invalid_idx_img]"
   ]
  },
  {
   "cell_type": "code",
   "execution_count": 58,
   "id": "39c4bfb6-a4b8-40d6-a736-635d2b171d3a",
   "metadata": {
    "tags": []
   },
   "outputs": [
    {
     "data": {
      "text/plain": [
       "(160, 4)"
      ]
     },
     "execution_count": 58,
     "metadata": {},
     "output_type": "execute_result"
    }
   ],
   "source": [
    "invalid_df.shape"
   ]
  },
  {
   "cell_type": "code",
   "execution_count": null,
   "id": "42a0dfab-6f9a-48e0-ab33-1696046aeb46",
   "metadata": {},
   "outputs": [],
   "source": [
    "#invalid_df.to_csv('filelist/cbna_invalid_patches.csv', sep=',', encoding='utf-8', index=False)"
   ]
  },
  {
   "cell_type": "code",
   "execution_count": null,
   "id": "c11f30b1-608d-48e9-a8cb-adfe4a40f8eb",
   "metadata": {},
   "outputs": [],
   "source": [
    "img_idx = invalid_df.id_img.values"
   ]
  },
  {
   "cell_type": "code",
   "execution_count": 59,
   "id": "4eeea8e2-0d68-404a-9018-9abc61d2b656",
   "metadata": {
    "tags": []
   },
   "outputs": [],
   "source": [
    "res_filtered_df = res_df[~res_df.id_img.isin(img_idx)]"
   ]
  },
  {
   "cell_type": "code",
   "execution_count": 61,
   "id": "3d3a5959-1290-4045-8945-4ce174bf56df",
   "metadata": {
    "tags": []
   },
   "outputs": [
    {
     "data": {
      "text/plain": [
       "(3477371, 10)"
      ]
     },
     "execution_count": 61,
     "metadata": {},
     "output_type": "execute_result"
    }
   ],
   "source": [
    "res_filtered_df.shape"
   ]
  },
  {
   "cell_type": "code",
   "execution_count": 3,
   "id": "79f2ca3c-7740-463b-9ac5-484b7b7d10df",
   "metadata": {
    "tags": []
   },
   "outputs": [],
   "source": [
    "#res_filtered_df.to_csv('filelist/cbna_filtered.csv', sep=',', encoding='utf-8', index=False)"
   ]
  }
 ],
 "metadata": {
  "kernelspec": {
   "display_name": "Python 3 (ipykernel)",
   "language": "python",
   "name": "python3"
  },
  "language_info": {
   "codemirror_mode": {
    "name": "ipython",
    "version": 3
   },
   "file_extension": ".py",
   "mimetype": "text/x-python",
   "name": "python",
   "nbconvert_exporter": "python",
   "pygments_lexer": "ipython3",
   "version": "3.10.12"
  }
 },
 "nbformat": 4,
 "nbformat_minor": 5
}
